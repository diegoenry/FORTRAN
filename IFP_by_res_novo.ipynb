{
 "cells": [
  {
   "cell_type": "code",
   "execution_count": 13,
   "metadata": {
    "ExecuteTime": {
     "end_time": "2018-04-15T19:58:48.852058Z",
     "start_time": "2018-04-15T19:58:48.847319Z"
    }
   },
   "outputs": [],
   "source": [
    "from matplotlib import pyplot as plt\n",
    "import pandas as pd"
   ]
  },
  {
   "cell_type": "code",
   "execution_count": 14,
   "metadata": {
    "ExecuteTime": {
     "end_time": "2018-04-15T19:58:49.269592Z",
     "start_time": "2018-04-15T19:58:49.263709Z"
    }
   },
   "outputs": [],
   "source": [
    "list=\"Mol|AA30|AA31|AG32|AW33|AY36|AP38|AT39|AQ40|AK41|AW42|AG43|AP44|AQ45|AG46|AD47|AR48|AE49|AH50|AP51|AF61|AG63|AA64|AN78|AT79|AF112|DA151|DA152|DG153|DW154|DS156|DY157|DP159|DT160|DQ161|DK162|DW163|DG164|DP165|DQ166|DG167|DD168|DR169|DE170|DH171|DP172|DF182|DG184|DA185|DN199|DT200|DF233\".split(\"|\")"
   ]
  },
  {
   "cell_type": "code",
   "execution_count": 27,
   "metadata": {
    "ExecuteTime": {
     "end_time": "2018-04-15T20:02:05.408726Z",
     "start_time": "2018-04-15T20:02:05.078841Z"
    }
   },
   "outputs": [
    {
     "data": {
      "image/png": "[encoded data removed]",
      "text/plain": [
       "<matplotlib.figure.Figure at 0x115bd9c50>"
      ]
     },
     "metadata": {},
     "output_type": "display_data"
    }
   ],
   "source": [
    "# Le o arquivo\n",
    "df = pd.read_csv('polar.dat',header=None)\n",
    "\n",
    "# Coloca o nome dos residuos\n",
    "df.columns=list\n",
    "\n",
    "# Remove Residues with ZERO interactions\n",
    "for col in list:\n",
    "    if df[col].max()==0:\n",
    "        del df[col]\n",
    "#del data['DF233']\n",
    "\n",
    "# Transforma a tabela e plota.\n",
    "df2=df.transpose()\n",
    "df2[1:].plot(kind='bar')\n",
    "plt.show()"
   ]
  }
 ],
 "metadata": {
  "kernelspec": {
   "display_name": "Python 2",
   "language": "python",
   "name": "python2"
  },
  "language_info": {
   "codemirror_mode": {
    "name": "ipython",
    "version": 2
   },
   "file_extension": ".py",
   "mimetype": "text/x-python",
   "name": "python",
   "nbconvert_exporter": "python",
   "pygments_lexer": "ipython2",
   "version": "2.7.14"
  },
  "toc": {
   "nav_menu": {},
   "number_sections": true,
   "sideBar": true,
   "skip_h1_title": true,
   "toc_cell": false,
   "toc_position": {},
   "toc_section_display": "block",
   "toc_window_display": false
  }
 },
 "nbformat": 4,
 "nbformat_minor": 2
}
